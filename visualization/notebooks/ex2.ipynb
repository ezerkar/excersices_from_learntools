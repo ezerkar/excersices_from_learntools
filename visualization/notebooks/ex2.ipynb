{
 "cells": [
  {
   "cell_type": "markdown",
   "metadata": {},
   "source": [
    "# A"
   ]
  },
  {
   "cell_type": "markdown",
   "metadata": {},
   "source": [
    "In this exercise, you will use your new knowledge to propose a solution to a real-world scenario. To succeed, you will need to import data into Python, answer questions using the data, and generate **line charts** to understand patterns in the data.\n",
    "\n",
    "## Scenario\n",
    "\n",
    "You have recently been hired to manage the museums in the City of Los Angeles. Your first project focuses on the four museums pictured in the images below.\n",
    "\n",
    "![ex1_museums](images/ex1_museums.png)\n",
    "\n",
    "You will leverage data from the Los Angeles [Data Portal](https://data.lacity.org/) that tracks monthly visitors to each museum.  \n",
    "\n",
    "![ex1_xlsx](images/ex1_xlsx.png)"
   ]
  },
  {
   "cell_type": "markdown",
   "metadata": {},
   "source": [
    "## Setup\n",
    "\n",
    "Run the next cell to import and configure the Python libraries that you need to complete the exercise."
   ]
  },
  {
   "cell_type": "code",
   "execution_count": 1,
   "metadata": {},
   "outputs": [
    {
     "name": "stdout",
     "output_type": "stream",
     "text": [
      "Setup Complete\n"
     ]
    }
   ],
   "source": [
    "import pandas as pd\n",
    "pd.plotting.register_matplotlib_converters()\n",
    "import matplotlib.pyplot as plt\n",
    "%matplotlib inline\n",
    "import seaborn as sns\n",
    "print(\"Setup Complete\")"
   ]
  },
  {
   "cell_type": "markdown",
   "metadata": {},
   "source": [
    "## Step 1: Load the data\n",
    "\n",
    "Your first assignment is to read the LA Museum Visitors data file into `museum_data`.  Note that:\n",
    "- The filepath to the dataset is stored as `museum_filepath`.  Please **do not** change the provided value of the filepath.\n",
    "- The name of the column to use as row labels is `\"Date\"`.  (This can be seen in cell A1 when the file is opened in Excel.)"
   ]
  },
  {
   "cell_type": "code",
   "execution_count": 2,
   "metadata": {},
   "outputs": [],
   "source": [
    "# Path of the file to read\n",
    "museum_filepath = \"../input/museum_visitors.csv\"\n",
    "\n",
    "# Fill in the line below to read the file into a variable museum_data\n",
    "museum_data = ''"
   ]
  },
  {
   "cell_type": "markdown",
   "metadata": {},
   "source": [
    "## Step 2: Review the data\n",
    "\n",
    "Use a Python command to print the last 5 rows of the data."
   ]
  },
  {
   "cell_type": "code",
   "execution_count": 3,
   "metadata": {},
   "outputs": [],
   "source": [
    "# Print the last five rows of the data \n",
    "# Your code below: "
   ]
  },
  {
   "cell_type": "markdown",
   "metadata": {},
   "source": [
    "The last row (for `2018-11-01`) tracks the number of visitors to each museum in November 2018, the next-to-last row (for `2018-10-01`) tracks the number of visitors to each museum in October 2018, _and so on_.\n",
    "\n",
    "Use the last 5 rows of the data to answer the questions below."
   ]
  },
  {
   "cell_type": "code",
   "execution_count": 4,
   "metadata": {},
   "outputs": [],
   "source": [
    "# Fill in the line below: How many visitors did the Chinese American Museum \n",
    "# receive in July 2018?\n",
    "ca_museum_jul18 = '' \n",
    "\n",
    "# Fill in the line below: In October 2018, how many more visitors did Avila \n",
    "# Adobe receive than the Firehouse Museum?\n",
    "avila_oct18 = ''"
   ]
  },
  {
   "cell_type": "markdown",
   "metadata": {},
   "source": [
    "## Step 3: Convince the museum board \n",
    "\n",
    "The Firehouse Museum claims they ran an event in 2014 that brought an incredible number of visitors, and that they should get extra budget to run a similar event again.  The other museums think these types of events aren't that important, and budgets should be split purely based on recent visitors on an average day.  \n",
    "\n",
    "To show the museum board how the event compared to regular traffic at each museum, create a line chart that shows how the number of visitors to each museum evolved over time.  Your figure should have four lines (one for each museum)."
   ]
  },
  {
   "cell_type": "code",
   "execution_count": 5,
   "metadata": {},
   "outputs": [],
   "source": [
    "# Line chart showing the number of visitors to each museum over time\n",
    "# Your code below:\n"
   ]
  },
  {
   "cell_type": "markdown",
   "metadata": {},
   "source": [
    "## Step 4: Assess seasonality\n",
    "\n",
    "When meeting with the employees at Avila Adobe, you hear that one major pain point is that the number of museum visitors varies greatly with the seasons, with low seasons (when the employees are perfectly staffed and happy) and also high seasons (when the employees are understaffed and stressed).  You realize that if you can predict these high and low seasons, you can plan ahead to hire some additional seasonal employees to help out with the extra work.\n",
    "\n",
    "#### Part A\n",
    "Create a line chart that shows how the number of visitors to Avila Adobe has evolved over time.  (_If your code returns an error, the first thing that you should check is that you've spelled the name of the column correctly!  You must write the name of the column exactly as it appears in the dataset._)"
   ]
  },
  {
   "cell_type": "code",
   "execution_count": 6,
   "metadata": {},
   "outputs": [],
   "source": [
    "# Line plot showing the number of visitors to Avila Adobe over time\n",
    "# Your code below:"
   ]
  },
  {
   "cell_type": "markdown",
   "metadata": {},
   "source": [
    "#### Part B\n",
    "\n",
    "Does Avila Adobe get more visitors:\n",
    "- in September-February (in LA, the fall and winter months), or \n",
    "- in March-August (in LA, the spring and summer)?  \n",
    "\n",
    "Using this information, when should the museum staff additional seasonal employees?"
   ]
  },
  {
   "cell_type": "code",
   "execution_count": null,
   "metadata": {},
   "outputs": [],
   "source": []
  }
 ],
 "metadata": {
  "kernelspec": {
   "display_name": "Python 3",
   "language": "python",
   "name": "python3"
  },
  "language_info": {
   "codemirror_mode": {
    "name": "ipython",
    "version": 3
   },
   "file_extension": ".py",
   "mimetype": "text/x-python",
   "name": "python",
   "nbconvert_exporter": "python",
   "pygments_lexer": "ipython3",
   "version": "3.8.5"
  }
 },
 "nbformat": 4,
 "nbformat_minor": 2
}
