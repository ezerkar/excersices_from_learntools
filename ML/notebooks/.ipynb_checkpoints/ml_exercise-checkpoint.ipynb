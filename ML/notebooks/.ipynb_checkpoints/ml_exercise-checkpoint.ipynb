{
 "cells": [
  {
   "cell_type": "code",
   "execution_count": 1,
   "metadata": {},
   "outputs": [],
   "source": [
    "import pandas as pd\n",
    "import numpy as np"
   ]
  },
  {
   "cell_type": "markdown",
   "metadata": {},
   "source": [
    "In this exercise you will be introduced to two datasets, with similar tasks for both."
   ]
  },
  {
   "cell_type": "markdown",
   "metadata": {},
   "source": [
    "## dataset #1"
   ]
  },
  {
   "cell_type": "code",
   "execution_count": 2,
   "metadata": {},
   "outputs": [],
   "source": [
    "data1 = pd.read_csv('../input/data1.csv')"
   ]
  },
  {
   "cell_type": "markdown",
   "metadata": {},
   "source": [
    "data1 includes features of house sales, your mission is to predict the selling price"
   ]
  },
  {
   "cell_type": "code",
   "execution_count": 3,
   "metadata": {},
   "outputs": [],
   "source": [
    "#Q1 - for the prediction, do you need a classifier or a regressor?\n"
   ]
  },
  {
   "cell_type": "code",
   "execution_count": 4,
   "metadata": {},
   "outputs": [],
   "source": [
    "#Q2 - choose a prediction model and initilize it (don't forget to import it)\n",
    "from sklearn.ensemble import RandomForestRegressor\n",
    "model = RandomForestRegressor()"
   ]
  },
  {
   "cell_type": "code",
   "execution_count": 5,
   "metadata": {},
   "outputs": [],
   "source": [
    "#Q3 - in order to have testable results we need a test set, create one (import tools if you need them):\n",
    "from sklearn.model_selection import train_test_split\n",
    "train, test = train_test_split(data1)"
   ]
  },
  {
   "cell_type": "code",
   "execution_count": 6,
   "metadata": {},
   "outputs": [],
   "source": [
    "#Q4 - look at the data and find the prediction target, create a feature df as well:\n",
    "y_train = train['SalePrice']\n",
    "y_test = test['SalePrice']\n",
    "X_train = train[[x for x in data1.columns if x!='SalesPrice']]\n",
    "X_test = test[[x for x in data1.columns if x!='SalesPrice']]"
   ]
  },
  {
   "cell_type": "code",
   "execution_count": 7,
   "metadata": {},
   "outputs": [
    {
     "data": {
      "text/plain": [
       "RandomForestRegressor()"
      ]
     },
     "execution_count": 7,
     "metadata": {},
     "output_type": "execute_result"
    }
   ],
   "source": [
    "#Q5 - fit the model\n",
    "model.fit(X_train, y_train)"
   ]
  },
  {
   "cell_type": "code",
   "execution_count": 8,
   "metadata": {},
   "outputs": [],
   "source": [
    "#Q6 - predict using the model\n",
    "y_pred = model.predict(X_test)"
   ]
  },
  {
   "cell_type": "code",
   "execution_count": 9,
   "metadata": {},
   "outputs": [
    {
     "data": {
      "text/plain": [
       "1005    149900\n",
       "503     289000\n",
       "1068    151400\n",
       "1436    120500\n",
       "379     179000\n",
       "         ...  \n",
       "362     198500\n",
       "832     237000\n",
       "1427    140000\n",
       "660     197900\n",
       "776     221500\n",
       "Name: SalePrice, Length: 365, dtype: int64"
      ]
     },
     "execution_count": 9,
     "metadata": {},
     "output_type": "execute_result"
    }
   ],
   "source": [
    "y_test"
   ]
  },
  {
   "cell_type": "code",
   "execution_count": 10,
   "metadata": {},
   "outputs": [
    {
     "data": {
      "text/html": [
       "<div>\n",
       "<style scoped>\n",
       "    .dataframe tbody tr th:only-of-type {\n",
       "        vertical-align: middle;\n",
       "    }\n",
       "\n",
       "    .dataframe tbody tr th {\n",
       "        vertical-align: top;\n",
       "    }\n",
       "\n",
       "    .dataframe thead th {\n",
       "        text-align: right;\n",
       "    }\n",
       "</style>\n",
       "<table border=\"1\" class=\"dataframe\">\n",
       "  <thead>\n",
       "    <tr style=\"text-align: right;\">\n",
       "      <th></th>\n",
       "      <th>real</th>\n",
       "      <th>predict</th>\n",
       "    </tr>\n",
       "  </thead>\n",
       "  <tbody>\n",
       "    <tr>\n",
       "      <th>0</th>\n",
       "      <td>149900</td>\n",
       "      <td>149913.00</td>\n",
       "    </tr>\n",
       "    <tr>\n",
       "      <th>1</th>\n",
       "      <td>289000</td>\n",
       "      <td>290052.33</td>\n",
       "    </tr>\n",
       "    <tr>\n",
       "      <th>2</th>\n",
       "      <td>151400</td>\n",
       "      <td>150950.00</td>\n",
       "    </tr>\n",
       "    <tr>\n",
       "      <th>3</th>\n",
       "      <td>120500</td>\n",
       "      <td>120312.50</td>\n",
       "    </tr>\n",
       "    <tr>\n",
       "      <th>4</th>\n",
       "      <td>179000</td>\n",
       "      <td>178960.65</td>\n",
       "    </tr>\n",
       "    <tr>\n",
       "      <th>...</th>\n",
       "      <td>...</td>\n",
       "      <td>...</td>\n",
       "    </tr>\n",
       "    <tr>\n",
       "      <th>360</th>\n",
       "      <td>198500</td>\n",
       "      <td>197628.00</td>\n",
       "    </tr>\n",
       "    <tr>\n",
       "      <th>361</th>\n",
       "      <td>237000</td>\n",
       "      <td>236715.00</td>\n",
       "    </tr>\n",
       "    <tr>\n",
       "      <th>362</th>\n",
       "      <td>140000</td>\n",
       "      <td>140002.00</td>\n",
       "    </tr>\n",
       "    <tr>\n",
       "      <th>363</th>\n",
       "      <td>197900</td>\n",
       "      <td>197682.00</td>\n",
       "    </tr>\n",
       "    <tr>\n",
       "      <th>364</th>\n",
       "      <td>221500</td>\n",
       "      <td>221438.37</td>\n",
       "    </tr>\n",
       "  </tbody>\n",
       "</table>\n",
       "<p>365 rows × 2 columns</p>\n",
       "</div>"
      ],
      "text/plain": [
       "       real    predict\n",
       "0    149900  149913.00\n",
       "1    289000  290052.33\n",
       "2    151400  150950.00\n",
       "3    120500  120312.50\n",
       "4    179000  178960.65\n",
       "..      ...        ...\n",
       "360  198500  197628.00\n",
       "361  237000  236715.00\n",
       "362  140000  140002.00\n",
       "363  197900  197682.00\n",
       "364  221500  221438.37\n",
       "\n",
       "[365 rows x 2 columns]"
      ]
     },
     "execution_count": 10,
     "metadata": {},
     "output_type": "execute_result"
    }
   ],
   "source": [
    "#Q7 - compare real and predict by showing it out and looking at it\n",
    "real_and_predict = pd.DataFrame(zip(y_test.values, y_pred), columns = ['real', 'predict'])\n",
    "real_and_predict"
   ]
  },
  {
   "cell_type": "code",
   "execution_count": 11,
   "metadata": {},
   "outputs": [
    {
     "data": {
      "text/plain": [
       "0       -13.00\n",
       "1     -1052.33\n",
       "2       450.00\n",
       "3       187.50\n",
       "4        39.35\n",
       "        ...   \n",
       "360     872.00\n",
       "361     285.00\n",
       "362      -2.00\n",
       "363     218.00\n",
       "364      61.63\n",
       "Length: 365, dtype: float64"
      ]
     },
     "execution_count": 11,
     "metadata": {},
     "output_type": "execute_result"
    }
   ],
   "source": [
    "(real_and_predict['real'] - real_and_predict['predict'])"
   ]
  },
  {
   "cell_type": "code",
   "execution_count": 12,
   "metadata": {},
   "outputs": [
    {
     "data": {
      "text/plain": [
       "398.98279452054817"
      ]
     },
     "execution_count": 12,
     "metadata": {},
     "output_type": "execute_result"
    }
   ],
   "source": [
    "#Q8 - define a metric and grade your model\n",
    "def metric1(real_and_predict):\n",
    "    return np.mean(abs(real_and_predict['real'] - real_and_predict['predict']))\n",
    "metric1(real_and_predict)"
   ]
  },
  {
   "cell_type": "code",
   "execution_count": 13,
   "metadata": {},
   "outputs": [
    {
     "data": {
      "text/plain": [
       "3771.484250403859"
      ]
     },
     "execution_count": 13,
     "metadata": {},
     "output_type": "execute_result"
    }
   ],
   "source": [
    "def metric1(real_and_predict):\n",
    "    return np.sqrt(np.square((real_and_predict['real'] - real_and_predict['predict'])).mean())\n",
    "metric1(real_and_predict)"
   ]
  },
  {
   "cell_type": "code",
   "execution_count": 14,
   "metadata": {},
   "outputs": [
    {
     "data": {
      "text/plain": [
       "0.5651418831994894"
      ]
     },
     "execution_count": 14,
     "metadata": {},
     "output_type": "execute_result"
    }
   ],
   "source": [
    "#Q9 - define a diffrent metric and grade your model\n",
    "def metric2(real_and_predict):\n",
    "    sq = np.square((real_and_predict['real'] - real_and_predict['predict']) / real_and_predict['real']).mean()\n",
    "    return np.sqrt(sq)*100\n",
    "metric2(real_and_predict)"
   ]
  },
  {
   "cell_type": "code",
   "execution_count": 15,
   "metadata": {},
   "outputs": [],
   "source": [
    "#Q10 - do you think one of the metrices is better than the other?\n"
   ]
  },
  {
   "cell_type": "code",
   "execution_count": 16,
   "metadata": {},
   "outputs": [
    {
     "data": {
      "text/plain": [
       "RandomForestRegressor(n_estimators=300)"
      ]
     },
     "execution_count": 16,
     "metadata": {},
     "output_type": "execute_result"
    }
   ],
   "source": [
    "#Q11 - try to build a better model (any way you want diffrent algo, diffrent parameters or diffrent features)\n",
    "model2 = RandomForestRegressor(n_estimators=300)\n",
    "model2.fit(X_train, y_train)\n",
    "y_pred_2 = model.predict(X_test)\n",
    "real_and_predict = pd.DataFrame(zip(y_test.values, y_pred_2), columns = ['real', 'predict'])"
   ]
  },
  {
   "cell_type": "code",
   "execution_count": null,
   "metadata": {},
   "outputs": [],
   "source": []
  }
 ],
 "metadata": {
  "kernelspec": {
   "display_name": "Python 3",
   "language": "python",
   "name": "python3"
  },
  "language_info": {
   "codemirror_mode": {
    "name": "ipython",
    "version": 3
   },
   "file_extension": ".py",
   "mimetype": "text/x-python",
   "name": "python",
   "nbconvert_exporter": "python",
   "pygments_lexer": "ipython3",
   "version": "3.8.5"
  }
 },
 "nbformat": 4,
 "nbformat_minor": 4
}
