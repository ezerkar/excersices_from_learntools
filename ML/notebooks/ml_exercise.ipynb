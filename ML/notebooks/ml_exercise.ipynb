{
 "cells": [
  {
   "cell_type": "code",
   "execution_count": 1,
   "metadata": {},
   "outputs": [],
   "source": [
    "import pandas as pd\n",
    "import numpy as np"
   ]
  },
  {
   "cell_type": "markdown",
   "metadata": {},
   "source": [
    "In this exercise you will be introduced to two datasets, with similar tasks for both."
   ]
  },
  {
   "cell_type": "markdown",
   "metadata": {},
   "source": [
    "## dataset #1"
   ]
  },
  {
   "cell_type": "code",
   "execution_count": 2,
   "metadata": {},
   "outputs": [],
   "source": [
    "data1 = pd.read_csv('../input/data1.csv')"
   ]
  },
  {
   "cell_type": "markdown",
   "metadata": {},
   "source": [
    "data1 includes features of house sales, your mission is to predict the selling price"
   ]
  },
  {
   "cell_type": "code",
   "execution_count": 3,
   "metadata": {},
   "outputs": [],
   "source": [
    "#Q1 - for the prediction, do you need a classifier or a regressor?\n"
   ]
  },
  {
   "cell_type": "code",
   "execution_count": 4,
   "metadata": {},
   "outputs": [],
   "source": [
    "#Q2 - choose a prediction model and initilize it (don't forget to import it)\n",
    "from sklearn.ensemble import RandomForestRegressor\n",
    "model = RandomForestRegressor()"
   ]
  },
  {
   "cell_type": "code",
   "execution_count": 5,
   "metadata": {},
   "outputs": [],
   "source": [
    "#Q3 - in order to have testable results we need a test set, create one (import tools if you need them):\n",
    "from sklearn.model_selection import train_test_split\n",
    "train, test = train_test_split(data1)"
   ]
  },
  {
   "cell_type": "code",
   "execution_count": 6,
   "metadata": {},
   "outputs": [],
   "source": [
    "#Q4 - look at the data and find the prediction target, create a feature df as well:\n",
    "y_train = train['SalePrice']\n",
    "y_test = test['SalePrice']\n",
    "X_train = train[[x for x in data1.columns if x!='SalesPrice']]\n",
    "X_test = test[[x for x in data1.columns if x!='SalesPrice']]"
   ]
  },
  {
   "cell_type": "code",
   "execution_count": 7,
   "metadata": {},
   "outputs": [
    {
     "data": {
      "text/plain": [
       "RandomForestRegressor()"
      ]
     },
     "execution_count": 7,
     "metadata": {},
     "output_type": "execute_result"
    }
   ],
   "source": [
    "#Q5 - fit the model\n",
    "model.fit(X_train, y_train)"
   ]
  },
  {
   "cell_type": "code",
   "execution_count": 8,
   "metadata": {},
   "outputs": [],
   "source": [
    "#Q6 - predict using the model\n",
    "y_pred = model.predict(X_test)"
   ]
  },
  {
   "cell_type": "code",
   "execution_count": 9,
   "metadata": {},
   "outputs": [
    {
     "data": {
      "text/plain": [
       "980     178400\n",
       "705      55000\n",
       "1296    155000\n",
       "1450    136000\n",
       "249     277000\n",
       "         ...  \n",
       "158     254900\n",
       "156     109500\n",
       "429     175000\n",
       "841     157500\n",
       "909     174000\n",
       "Name: SalePrice, Length: 365, dtype: int64"
      ]
     },
     "execution_count": 9,
     "metadata": {},
     "output_type": "execute_result"
    }
   ],
   "source": [
    "y_test"
   ]
  },
  {
   "cell_type": "code",
   "execution_count": 10,
   "metadata": {},
   "outputs": [
    {
     "data": {
      "text/html": [
       "<div>\n",
       "<style scoped>\n",
       "    .dataframe tbody tr th:only-of-type {\n",
       "        vertical-align: middle;\n",
       "    }\n",
       "\n",
       "    .dataframe tbody tr th {\n",
       "        vertical-align: top;\n",
       "    }\n",
       "\n",
       "    .dataframe thead th {\n",
       "        text-align: right;\n",
       "    }\n",
       "</style>\n",
       "<table border=\"1\" class=\"dataframe\">\n",
       "  <thead>\n",
       "    <tr style=\"text-align: right;\">\n",
       "      <th></th>\n",
       "      <th>real</th>\n",
       "      <th>predict</th>\n",
       "    </tr>\n",
       "  </thead>\n",
       "  <tbody>\n",
       "    <tr>\n",
       "      <th>0</th>\n",
       "      <td>178400</td>\n",
       "      <td>178595.05</td>\n",
       "    </tr>\n",
       "    <tr>\n",
       "      <th>1</th>\n",
       "      <td>55000</td>\n",
       "      <td>51692.87</td>\n",
       "    </tr>\n",
       "    <tr>\n",
       "      <th>2</th>\n",
       "      <td>155000</td>\n",
       "      <td>154999.00</td>\n",
       "    </tr>\n",
       "    <tr>\n",
       "      <th>3</th>\n",
       "      <td>136000</td>\n",
       "      <td>135841.50</td>\n",
       "    </tr>\n",
       "    <tr>\n",
       "      <th>4</th>\n",
       "      <td>277000</td>\n",
       "      <td>276882.60</td>\n",
       "    </tr>\n",
       "    <tr>\n",
       "      <th>...</th>\n",
       "      <td>...</td>\n",
       "      <td>...</td>\n",
       "    </tr>\n",
       "    <tr>\n",
       "      <th>360</th>\n",
       "      <td>254900</td>\n",
       "      <td>255006.79</td>\n",
       "    </tr>\n",
       "    <tr>\n",
       "      <th>361</th>\n",
       "      <td>109500</td>\n",
       "      <td>109355.15</td>\n",
       "    </tr>\n",
       "    <tr>\n",
       "      <th>362</th>\n",
       "      <td>175000</td>\n",
       "      <td>174988.00</td>\n",
       "    </tr>\n",
       "    <tr>\n",
       "      <th>363</th>\n",
       "      <td>157500</td>\n",
       "      <td>157646.63</td>\n",
       "    </tr>\n",
       "    <tr>\n",
       "      <th>364</th>\n",
       "      <td>174000</td>\n",
       "      <td>173972.32</td>\n",
       "    </tr>\n",
       "  </tbody>\n",
       "</table>\n",
       "<p>365 rows × 2 columns</p>\n",
       "</div>"
      ],
      "text/plain": [
       "       real    predict\n",
       "0    178400  178595.05\n",
       "1     55000   51692.87\n",
       "2    155000  154999.00\n",
       "3    136000  135841.50\n",
       "4    277000  276882.60\n",
       "..      ...        ...\n",
       "360  254900  255006.79\n",
       "361  109500  109355.15\n",
       "362  175000  174988.00\n",
       "363  157500  157646.63\n",
       "364  174000  173972.32\n",
       "\n",
       "[365 rows x 2 columns]"
      ]
     },
     "execution_count": 10,
     "metadata": {},
     "output_type": "execute_result"
    }
   ],
   "source": [
    "#Q7 - compare real and predict by showing it out and looking at it\n",
    "real_and_predict = pd.DataFrame(zip(y_test.values, y_pred), columns = ['real', 'predict'])\n",
    "real_and_predict"
   ]
  },
  {
   "cell_type": "code",
   "execution_count": 11,
   "metadata": {},
   "outputs": [
    {
     "data": {
      "text/plain": [
       "519.5346575342464"
      ]
     },
     "execution_count": 11,
     "metadata": {},
     "output_type": "execute_result"
    }
   ],
   "source": [
    "#Q8 - define a metric and grade your model\n",
    "def metric1(real_and_predict):\n",
    "    return np.mean(abs(real_and_predict['real'] - real_and_predict['predict']))\n",
    "metric1(real_and_predict)"
   ]
  },
  {
   "cell_type": "code",
   "execution_count": 12,
   "metadata": {},
   "outputs": [
    {
     "data": {
      "text/plain": [
       "4375.222273588063"
      ]
     },
     "execution_count": 12,
     "metadata": {},
     "output_type": "execute_result"
    }
   ],
   "source": [
    "def metric1(real_and_predict):\n",
    "    return np.sqrt(np.square((real_and_predict['real'] - real_and_predict['predict'])).mean())\n",
    "metric1(real_and_predict)"
   ]
  },
  {
   "cell_type": "code",
   "execution_count": 13,
   "metadata": {},
   "outputs": [
    {
     "data": {
      "text/plain": [
       "0.8310985933105978"
      ]
     },
     "execution_count": 13,
     "metadata": {},
     "output_type": "execute_result"
    }
   ],
   "source": [
    "#Q9 - define a diffrent metric and grade your model\n",
    "def metric2(real_and_predict):\n",
    "    sq = np.square((real_and_predict['real'] - real_and_predict['predict']) / real_and_predict['real']).mean()\n",
    "    return np.sqrt(sq)*100\n",
    "metric2(real_and_predict)"
   ]
  },
  {
   "cell_type": "code",
   "execution_count": 14,
   "metadata": {},
   "outputs": [],
   "source": [
    "#Q10 - do you think one of the metrices is better than the other?\n"
   ]
  },
  {
   "cell_type": "code",
   "execution_count": 19,
   "metadata": {},
   "outputs": [],
   "source": [
    "#Q11 - try to build a better model (any way you want diffrent algo, diffrent parameters or diffrent features)\n",
    "model2 = RandomForestRegressor(n_estimators=25)"
   ]
  },
  {
   "cell_type": "code",
   "execution_count": 20,
   "metadata": {},
   "outputs": [
    {
     "data": {
      "text/plain": [
       "0.7487827926064619"
      ]
     },
     "execution_count": 20,
     "metadata": {},
     "output_type": "execute_result"
    }
   ],
   "source": [
    "#Q12 - choose one of the metrices and check if indeed the new model is better\n",
    "model2.fit(X_train, y_train)\n",
    "y_pred_2 = model2.predict(X_test)\n",
    "real_and_predict_2 = pd.DataFrame(zip(y_test.values, y_pred_2), columns = ['real', 'predict'])\n",
    "metric2(real_and_predict_2)"
   ]
  },
  {
   "cell_type": "code",
   "execution_count": 21,
   "metadata": {},
   "outputs": [
    {
     "name": "stdout",
     "output_type": "stream",
     "text": [
      "0.7895734406897291 0.8145845746125273\n",
      "0.9545269750143713 0.7958197920190136\n",
      "0.9520675574573001 0.8470293458154013\n",
      "0.7227014510161308 0.6721444247776118\n",
      "1.060025666057552 0.7433026047352709\n"
     ]
    }
   ],
   "source": [
    "#Q13 - in case your models are not deterministic (well at least one of your models),\n",
    "#      run the comparison between them 5 times to see if the better one is always better\n",
    "for i in range(5):\n",
    "    model2.fit(X_train, y_train)\n",
    "    y_pred_2 = model2.predict(X_test)\n",
    "    real_and_predict_2 = pd.DataFrame(zip(y_test.values, y_pred_2), columns = ['real', 'predict'])\n",
    "    model2_grade = metric2(real_and_predict_2)\n",
    "    \n",
    "    model.fit(X_train, y_train)\n",
    "    y_pred = model.predict(X_test)\n",
    "    real_and_predict = pd.DataFrame(zip(y_test.values, y_pred), columns = ['real', 'predict'])\n",
    "    model_grade = metric2(real_and_predict)\n",
    "    \n",
    "    print(model2_grade, model_grade)"
   ]
  },
  {
   "cell_type": "code",
   "execution_count": 18,
   "metadata": {},
   "outputs": [],
   "source": [
    "#Q14 - Philosopical question, in Q13 did you include the split in the loop, is it good to do so?\n"
   ]
  }
 ],
 "metadata": {
  "kernelspec": {
   "display_name": "Python 3",
   "language": "python",
   "name": "python3"
  },
  "language_info": {
   "codemirror_mode": {
    "name": "ipython",
    "version": 3
   },
   "file_extension": ".py",
   "mimetype": "text/x-python",
   "name": "python",
   "nbconvert_exporter": "python",
   "pygments_lexer": "ipython3",
   "version": "3.8.5"
  }
 },
 "nbformat": 4,
 "nbformat_minor": 4
}
